{
 "cells": [
  {
   "cell_type": "code",
   "execution_count": 1,
   "metadata": {},
   "outputs": [],
   "source": [
    "import cv2\n",
    "import numpy as np\n",
    "#%pylab inline"
   ]
  },
  {
   "cell_type": "code",
   "execution_count": 2,
   "metadata": {},
   "outputs": [
    {
     "data": {
      "text/plain": [
       "True"
      ]
     },
     "execution_count": 2,
     "metadata": {},
     "output_type": "execute_result"
    }
   ],
   "source": [
    "cap = cv2.VideoCapture(0) # Capture video from camera\n",
    "\n",
    "# Get the width and height of frame\n",
    "width = int(cap.get(cv2.CAP_PROP_FRAME_WIDTH) + 0.5)\n",
    "height = int(cap.get(cv2.CAP_PROP_FRAME_HEIGHT) + 0.5)\n",
    "cap.set(5,30)\n",
    "#cap.set(15, -7)\n",
    "#cap.set(14, 0)\n",
    "#cap.set(10, 120)\n",
    "#cap.get(10)"
   ]
  },
  {
   "cell_type": "code",
   "execution_count": 4,
   "metadata": {},
   "outputs": [],
   "source": [
    "while True:\n",
    "    success, img = cap.read() # capture frame from video\n",
    "    # converting image from color to grayscale \n",
    "    img = cv2.flip(img, 1)\n",
    "    img = cv2.resize(img, (320, 320))\n",
    "    img = cv2.cvtColor(img, cv2.COLOR_BGR2RGB)\n",
    "    hsv = cv2.cvtColor(img, cv2.COLOR_RGB2HSV)\n",
    "    \n",
    "    #This is for luminosity\n",
    "    #retval, threshold = cv2.threshold(gray, 250, 255, cv2.THRESH_BINARY)\n",
    "    mask = img[:,:,0]>254\n",
    "    mask = mask.astype(np.uint8)\n",
    "    \n",
    "    retval, labels, stats, centroids = cv2.connectedComponentsWithStats(mask)\n",
    "    #note if you use None it starts bugging after a while\n",
    "    x, y = 50, 50\n",
    "    max_area = None\n",
    "            \n",
    "    for stat, center in zip(stats[1:], centroids[1:]):\n",
    "        area = stat[4]\n",
    "        if (max_area is None) or (area > max_area):\n",
    "            x, y = center\n",
    "            max_area = area\n",
    "    #Save position found\n",
    "    x, y = int(x), int(y)\n",
    "    img2 = np.copy(img)\n",
    "    img2[y-10:y+10, x-10:x+10, :] = (100, 100, 255)\n",
    "    cv2.imshow('red_dot', img2)\n",
    "    \n",
    "    # loop will be broken when 'q' is pressed on the keyboard\n",
    "    # this method freezes the webcam, which is not ideal\n",
    "    if cv2.waitKey(10) & 0xFF == ord('q'):\n",
    "        break\n",
    "\n",
    "cap.release()\n",
    "cv2.destroyWindow('red_dot')"
   ]
  },
  {
   "cell_type": "code",
   "execution_count": null,
   "metadata": {},
   "outputs": [],
   "source": []
  }
 ],
 "metadata": {
  "kernelspec": {
   "display_name": "Python 3",
   "language": "python",
   "name": "python3"
  },
  "language_info": {
   "codemirror_mode": {
    "name": "ipython",
    "version": 3
   },
   "file_extension": ".py",
   "mimetype": "text/x-python",
   "name": "python",
   "nbconvert_exporter": "python",
   "pygments_lexer": "ipython3",
   "version": "3.7.10"
  }
 },
 "nbformat": 4,
 "nbformat_minor": 2
}
